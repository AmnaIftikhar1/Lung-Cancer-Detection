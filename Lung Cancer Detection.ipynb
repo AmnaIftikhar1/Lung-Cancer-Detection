{
 "cells": [
  {
   "cell_type": "code",
   "execution_count": 29,
   "id": "3bb23798",
   "metadata": {},
   "outputs": [],
   "source": [
    "import pandas as pd\n",
    "import seaborn as sns\n",
    "import matplotlib.pyplot as plt\n",
    "from sklearn.model_selection import train_test_split\n",
    "from sklearn.ensemble import RandomForestClassifier\n",
    "from sklearn.metrics import accuracy_score\n",
    "from sklearn.metrics import classification_report, confusion_matrix"
   ]
  },
  {
   "cell_type": "code",
   "execution_count": 30,
   "id": "9d3d7bc4",
   "metadata": {},
   "outputs": [],
   "source": [
    "df = pd.read_csv('survey lung cancer.csv')"
   ]
  },
  {
   "cell_type": "code",
   "execution_count": 31,
   "id": "e7451f82",
   "metadata": {},
   "outputs": [],
   "source": [
    "def preprocess_data(df):\n",
    "    df = df.dropna()\n",
    "    df = df.drop_duplicates()\n",
    "    df['GENDER'] = df['GENDER'].map({'Male': 'M', 'Female': 'F'})\n",
    "\n",
    "    df.columns = df.columns.str.strip()\n",
    "\n",
    "    return df"
   ]
  },
  {
   "cell_type": "code",
   "execution_count": 32,
   "id": "d2836be1",
   "metadata": {},
   "outputs": [],
   "source": [
    "df = preprocess_data(df)"
   ]
  },
  {
   "cell_type": "code",
   "execution_count": 33,
   "id": "0391ba35",
   "metadata": {},
   "outputs": [],
   "source": [
    "X = df.drop('LUNG_CANCER', axis=1)\n",
    "y = df['LUNG_CANCER']\n",
    "X = pd.get_dummies(X)"
   ]
  },
  {
   "cell_type": "code",
   "execution_count": 34,
   "id": "641db3e0",
   "metadata": {},
   "outputs": [],
   "source": [
    "X_train, X_test, y_train, y_test = train_test_split(X, y, test_size=0.2, random_state=42)"
   ]
  },
  {
   "cell_type": "code",
   "execution_count": 35,
   "id": "3996fbbf",
   "metadata": {},
   "outputs": [
    {
     "data": {
      "text/plain": [
       "RandomForestClassifier(random_state=42)"
      ]
     },
     "execution_count": 35,
     "metadata": {},
     "output_type": "execute_result"
    }
   ],
   "source": [
    "model = RandomForestClassifier(random_state=42)\n",
    "model.fit(X_train, y_train)"
   ]
  },
  {
   "cell_type": "code",
   "execution_count": 36,
   "id": "a0098992",
   "metadata": {},
   "outputs": [
    {
     "name": "stdout",
     "output_type": "stream",
     "text": [
      "Accuracy: 0.8928571428571429\n"
     ]
    }
   ],
   "source": [
    "y_pred = model.predict(X_test)\n",
    "\n",
    "accuracy = accuracy_score(y_test, y_pred)\n",
    "print(\"Accuracy:\", accuracy)"
   ]
  },
  {
   "cell_type": "code",
   "execution_count": 37,
   "id": "51c11107",
   "metadata": {},
   "outputs": [
    {
     "name": "stdout",
     "output_type": "stream",
     "text": [
      "Classification Report:\n",
      "              precision    recall  f1-score   support\n",
      "\n",
      "          NO       1.00      0.50      0.67        12\n",
      "         YES       0.88      1.00      0.94        44\n",
      "\n",
      "    accuracy                           0.89        56\n",
      "   macro avg       0.94      0.75      0.80        56\n",
      "weighted avg       0.91      0.89      0.88        56\n",
      "\n"
     ]
    }
   ],
   "source": [
    "report = classification_report(y_test, y_pred)\n",
    "print('Classification Report:')\n",
    "print(report)"
   ]
  },
  {
   "cell_type": "code",
   "execution_count": 38,
   "id": "1b35daee",
   "metadata": {},
   "outputs": [
    {
     "data": {
      "image/png": "[encoded data removed]",
      "text/plain": [
       "<Figure size 432x432 with 1 Axes>"
      ]
     },
     "metadata": {
      "needs_background": "light"
     },
     "output_type": "display_data"
    }
   ],
   "source": [
    "conf_matrix = confusion_matrix(y_test, y_pred)\n",
    "plt.figure(figsize=(6, 6))\n",
    "sns.heatmap(conf_matrix, annot=True, fmt='d', cmap='Blues', cbar=False, square=True,\n",
    "            xticklabels=['No Lung Cancer', 'Lung Cancer'],\n",
    "            yticklabels=['No Lung Cancer', 'Lung Cancer'])\n",
    "plt.xlabel('Predicted Label')\n",
    "plt.ylabel('True Label')\n",
    "plt.title('Confusion Matrix')\n",
    "plt.show()"
   ]
  },
  {
   "cell_type": "code",
   "execution_count": 39,
   "id": "36addb14",
   "metadata": {},
   "outputs": [],
   "source": [
    "def get_input_from_user():\n",
    "    print(\"Please provide the following information:\")\n",
    "    gender = input(\"Gender (M/F): \").upper()\n",
    "    age = int(input(\"Age: \"))\n",
    "    smoking = int(input(\"Smoking status (1 - No, 2 - Yes): \"))\n",
    "    yellow_fingers = int(input(\"Yellow fingers (1 - No, 2 - Yes): \"))\n",
    "    anxiety = int(input(\"Anxiety (1 - No, 2 - Yes): \"))\n",
    "    peer_pressure = int(input(\"Peer pressure (1 - No, 2 - Yes): \"))\n",
    "    chronic_disease = int(input(\"Chronic disease (1 - No, 2 - Yes): \"))\n",
    "    fatigue = int(input(\"Fatigue (1 - No, 2 - Yes): \"))\n",
    "    allergy = int(input(\"Allergy (1 - No, 2 - Yes): \"))\n",
    "    wheezing = int(input(\"Wheezing (1 - No, 2 - Yes): \"))\n",
    "    alcohol_consuming = int(input(\"Alcohol consuming (1 - No, 2 - Yes): \"))\n",
    "    coughing = int(input(\"Coughing (1 - No, 2 - Yes): \"))\n",
    "    shortness_of_breath = int(input(\"Shortness of breath (1 - No, 2 - Yes): \"))\n",
    "    swallowing_difficulty = int(input(\"Swallowing difficulty (1 - No, 2 - Yes): \"))\n",
    "    chest_pain = int(input(\"Chest pain (1 - No, 2 - Yes): \"))\n",
    "\n",
    "    user_data = {\n",
    "        'AGE': [age],\n",
    "        'GENDER': [gender],\n",
    "        'SMOKING': [smoking],\n",
    "        'YELLOW_FINGERS': [yellow_fingers],\n",
    "        'ANXIETY': [anxiety],\n",
    "        'PEER_PRESSURE': [peer_pressure],\n",
    "        'CHRONIC DISEASE': [chronic_disease],\n",
    "        'FATIGUE': [fatigue],\n",
    "        'ALLERGY': [allergy],\n",
    "        'WHEEZING': [wheezing],\n",
    "        'ALCOHOL CONSUMING': [alcohol_consuming],\n",
    "        'COUGHING': [coughing],\n",
    "        'SHORTNESS OF BREATH': [shortness_of_breath],\n",
    "        'SWALLOWING DIFFICULTY': [swallowing_difficulty],\n",
    "        'CHEST PAIN': [chest_pain]\n",
    "    }\n",
    "    return user_data\n"
   ]
  },
  {
   "cell_type": "code",
   "execution_count": 40,
   "id": "74822e70",
   "metadata": {},
   "outputs": [],
   "source": [
    "def predict_lung_cancer(user_data):\n",
    "    user_data_df = pd.DataFrame.from_dict(user_data)\n",
    "    user_data_df = user_data_df[X.columns]  # Reorder columns to match model's expectations\n",
    "    prediction = model.predict(user_data_df)\n",
    "    return prediction[0]"
   ]
  },
  {
   "cell_type": "code",
   "execution_count": 41,
   "id": "cbe10979",
   "metadata": {},
   "outputs": [],
   "source": [
    "def interpret_prediction(prediction):\n",
    "    if prediction == 'NO':\n",
    "        return \"No lung cancer detected.\"\n",
    "    else:\n",
    "        return \"Lung cancer detected. Please consult a doctor for further evaluation.\""
   ]
  },
  {
   "cell_type": "code",
   "execution_count": 43,
   "id": "31b34ab8",
   "metadata": {},
   "outputs": [
    {
     "name": "stdout",
     "output_type": "stream",
     "text": [
      "Please provide the following information:\n",
      "Gender (M/F): F\n",
      "Age: 23\n",
      "Smoking status (1 - No, 2 - Yes): 1\n",
      "Yellow fingers (1 - No, 2 - Yes): 1\n",
      "Anxiety (1 - No, 2 - Yes): 1\n",
      "Peer pressure (1 - No, 2 - Yes): 1\n",
      "Chronic disease (1 - No, 2 - Yes): 1\n",
      "Fatigue (1 - No, 2 - Yes): 1\n",
      "Allergy (1 - No, 2 - Yes): 1\n",
      "Wheezing (1 - No, 2 - Yes): 1\n",
      "Alcohol consuming (1 - No, 2 - Yes): 1\n",
      "Coughing (1 - No, 2 - Yes): 1\n",
      "Shortness of breath (1 - No, 2 - Yes): 1\n",
      "Swallowing difficulty (1 - No, 2 - Yes): 1\n",
      "Chest pain (1 - No, 2 - Yes): 1\n",
      "No lung cancer detected.\n",
      "Do you want to test again? (yes/no): no\n"
     ]
    }
   ],
   "source": [
    "if __name__ == \"__main__\":\n",
    "    while True:\n",
    "        user_input = get_input_from_user()\n",
    "        \n",
    "        prediction_result = predict_lung_cancer(user_input)\n",
    "        \n",
    "        result_message = interpret_prediction(prediction_result)\n",
    "        print(result_message)\n",
    "        \n",
    "        repeat = input(\"Do you want to test again? (yes/no): \").lower()\n",
    "        if repeat != \"yes\":\n",
    "            break"
   ]
  },
  {
   "cell_type": "code",
   "execution_count": null,
   "id": "79474884",
   "metadata": {},
   "outputs": [],
   "source": []
  }
 ],
 "metadata": {
  "kernelspec": {
   "display_name": "Python 3 (ipykernel)",
   "language": "python",
   "name": "python3"
  },
  "language_info": {
   "codemirror_mode": {
    "name": "ipython",
    "version": 3
   },
   "file_extension": ".py",
   "mimetype": "text/x-python",
   "name": "python",
   "nbconvert_exporter": "python",
   "pygments_lexer": "ipython3",
   "version": "3.9.12"
  }
 },
 "nbformat": 4,
 "nbformat_minor": 5
}
